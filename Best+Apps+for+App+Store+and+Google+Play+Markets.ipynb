{
 "cells": [
  {
   "cell_type": "markdown",
   "metadata": {
    "collapsed": true
   },
   "source": [
    "Best Apps for App Store and Google Play Markets\n",
    "\n",
    "In this project we look at apps available on the App Store and Google Play applications. In analyzing the data, we will determine which free apps are most effective to use in getting more customers.We Will only consider free apps as all of our revenue will be generated via in-ad sales. Let's get started!"
   ]
  },
  {
   "cell_type": "code",
   "execution_count": 1,
   "metadata": {
    "collapsed": false,
    "scrolled": true
   },
   "outputs": [
    {
     "name": "stdout",
     "output_type": "stream",
     "text": [
      "['284882215', 'Facebook', '389879808', 'USD', '0.0', '2974676', '212', '3.5', '3.5', '95.0', '4+', 'Social Networking', '37', '1', '29', '1']\n",
      "\n",
      "\n",
      "['389801252', 'Instagram', '113954816', 'USD', '0.0', '2161558', '1289', '4.5', '4.0', '10.23', '12+', 'Photo & Video', '37', '0', '29', '1']\n",
      "\n",
      "\n",
      "Number of rows: 7197\n",
      "Number of columns: 16\n",
      "['Photo Editor & Candy Camera & Grid & ScrapBook', 'ART_AND_DESIGN', '4.1', '159', '19M', '10,000+', 'Free', '0', 'Everyone', 'Art & Design', 'January 7, 2018', '1.0.0', '4.0.3 and up']\n",
      "\n",
      "\n",
      "['Coloring book moana', 'ART_AND_DESIGN', '3.9', '967', '14M', '500,000+', 'Free', '0', 'Everyone', 'Art & Design;Pretend Play', 'January 15, 2018', '2.0.0', '4.0.3 and up']\n",
      "\n",
      "\n",
      "['U Launcher Lite – FREE Live Cool Themes, Hide Apps', 'ART_AND_DESIGN', '4.7', '87510', '8.7M', '5,000,000+', 'Free', '0', 'Everyone', 'Art & Design', 'August 1, 2018', '1.2.4', '4.0.3 and up']\n",
      "\n",
      "\n",
      "Number of rows: 10841\n",
      "Number of columns: 13\n"
     ]
    }
   ],
   "source": [
    "AppStore_file = open('AppleStore.csv')\n",
    "from csv import reader\n",
    "AppStore_read_file = reader(AppStore_file)\n",
    "AppStore_data = list(AppStore_read_file)\n",
    "AppStore_data_header = AppStore_data[0]\n",
    "AppStore_data  = AppStore_data[1:]\n",
    "\n",
    "def explore_dataset(dataset,start,end, rows_and_columns=False):\n",
    "    dataset_slice = dataset[start:end]    \n",
    "    for row in dataset_slice:\n",
    "        print(row)\n",
    "        print('\\n') # adds a new (empty) line after each row\n",
    "\n",
    "    if rows_and_columns:\n",
    "        print('Number of rows:', len(dataset))\n",
    "        print('Number of columns:', len(dataset[0]))\n",
    "        \n",
    "AppleStore = explore_dataset(AppStore_data,0,2,True)        \n",
    "\n",
    "GooglePlay_file = open('googleplaystore.csv')\n",
    "GooglePlay_read_file = reader(GooglePlay_file)\n",
    "GooglePlay_data = list(GooglePlay_read_file)\n",
    "GooglePlay_data_header = GooglePlay_data[0]\n",
    "GooglePlay_data = GooglePlay_data[1:]\n",
    "\n",
    "GooglePlay = explore_dataset(GooglePlay_data, 0, 3, True)"
   ]
  },
  {
   "cell_type": "code",
   "execution_count": 2,
   "metadata": {
    "collapsed": false,
    "scrolled": false
   },
   "outputs": [
    {
     "name": "stdout",
     "output_type": "stream",
     "text": [
      "Apple Store App Names\n",
      "['id', 'track_name', 'size_bytes', 'currency', 'price', 'rating_count_tot', 'rating_count_ver', 'user_rating', 'user_rating_ver', 'ver', 'cont_rating', 'prime_genre', 'sup_devices.num', 'ipadSc_urls.num', 'lang.num', 'vpp_lic']\n",
      "\n",
      "\n",
      "Google Play App Names\n",
      "['App', 'Category', 'Rating', 'Reviews', 'Size', 'Installs', 'Type', 'Price', 'Content Rating', 'Genres', 'Last Updated', 'Current Ver', 'Android Ver']\n"
     ]
    }
   ],
   "source": [
    "print(\"Apple Store App Names\")\n",
    "print(AppStore_data_header)\n",
    "print('\\n')\n",
    "print(\"Google Play App Names\")\n",
    "print(GooglePlay_data_header)"
   ]
  },
  {
   "cell_type": "code",
   "execution_count": 3,
   "metadata": {
    "collapsed": false,
    "scrolled": true
   },
   "outputs": [
    {
     "name": "stdout",
     "output_type": "stream",
     "text": [
      "These columns could help us in analysis of the best apps in the Apple App Store: price, user rating, prime genre, and size bytes.\n",
      "In Google Play, the features listed are useful for determining the best apps. It's helpful to look at the data in more detail to determine which ones are most important.\n"
     ]
    }
   ],
   "source": [
    "print(\"These columns could help us in analysis of the best apps in the Apple App Store: price, user rating, prime genre, and size bytes.\")\n",
    "print(\"In Google Play, the features listed are useful for determining the best apps. It's helpful to look at the data in more detail to determine which ones are most important.\")"
   ]
  },
  {
   "cell_type": "markdown",
   "metadata": {
    "collapsed": false
   },
   "source": [
    "For detailed info on the descriptors for the Apple Store applications please see [here](https://www.kaggle.com/ramamet4/app-store-apple-data-set-10k-apps).\n",
    "And for more info on the descriptors used in the Google Play dataset, see the [Google Play mobile app store](https://www.kaggle.com/lava18/google-play-store-apps)."
   ]
  },
  {
   "cell_type": "code",
   "execution_count": 4,
   "metadata": {
    "collapsed": false
   },
   "outputs": [
    {
     "name": "stdout",
     "output_type": "stream",
     "text": [
      "['App', 'Category', 'Rating', 'Reviews', 'Size', 'Installs', 'Type', 'Price', 'Content Rating', 'Genres', 'Last Updated', 'Current Ver', 'Android Ver']\n",
      "\n",
      "\n",
      "['Life Made WI-Fi Touchscreen Photo Frame', '1.9', '19', '3.0M', '1,000+', 'Free', '0', 'Everyone', '', 'February 11, 2018', '1.0.19', '4.0 and up']\n"
     ]
    }
   ],
   "source": [
    "print(GooglePlay_data_header)\n",
    "print('\\n')\n",
    "print(GooglePlay_data[10472])"
   ]
  },
  {
   "cell_type": "code",
   "execution_count": 5,
   "metadata": {
    "collapsed": true
   },
   "outputs": [],
   "source": [
    "del GooglePlay_data[10472]"
   ]
  },
  {
   "cell_type": "markdown",
   "metadata": {
    "collapsed": true
   },
   "source": [
    "The GooglePlay data was missing the Life Made WI-Fi Touchscreen Photo Frame app rating and thus the app was removed from our dataset in the preceding code. But another problem exists. GooglePlay also has duplicate entries which we need to remove. Let's see what these are."
   ]
  },
  {
   "cell_type": "code",
   "execution_count": 6,
   "metadata": {
    "collapsed": false
   },
   "outputs": [
    {
     "name": "stdout",
     "output_type": "stream",
     "text": [
      "Number of duplicate apps: 1181\n",
      "\n",
      "\n",
      "Examples of duplicate apps: ['Quick PDF Scanner + OCR FREE', 'Box', 'Google My Business', 'ZOOM Cloud Meetings', 'join.me - Simple Meetings', 'Box', 'Zenefits', 'Google Ads', 'Google My Business', 'Slack', 'FreshBooks Classic', 'Insightly CRM', 'QuickBooks Accounting: Invoicing & Expenses', 'HipChat - Chat Built for Teams', 'Xero Accounting Software', 'MailChimp - Email, Marketing Automation', 'Crew - Free Messaging and Scheduling']\n"
     ]
    }
   ],
   "source": [
    "duplicate_apps = []\n",
    "unique_apps = []\n",
    "\n",
    "for app in GooglePlay_data:\n",
    "    name = app[0]\n",
    "    if name in unique_apps:\n",
    "        duplicate_apps.append(name)\n",
    "    else:\n",
    "        unique_apps.append(name)\n",
    "        \n",
    "print('Number of duplicate apps:', len(duplicate_apps))\n",
    "print('\\n')\n",
    "print('Examples of duplicate apps:', duplicate_apps[:17])"
   ]
  },
  {
   "cell_type": "markdown",
   "metadata": {},
   "source": [
    "For the sake of accuracy in our analysis, we will be removing the duplicate entries. These will not be deleted randomly; we will use the number of reviews to decide which entry to keep. The higher the number of reviews, the more recent the data. Hence, we will keep the entry with the highest number of reviews for all duplicated entries."
   ]
  },
  {
   "cell_type": "code",
   "execution_count": 7,
   "metadata": {
    "collapsed": false
   },
   "outputs": [
    {
     "name": "stdout",
     "output_type": "stream",
     "text": [
      "Number of Google Play apps is  9659\n"
     ]
    }
   ],
   "source": [
    "reviews_max = {}\n",
    "for app in GooglePlay_data:\n",
    "    name = app[0]\n",
    "    n_reviews = float(app[3])\n",
    "    if name in reviews_max and reviews_max[name] < n_reviews:\n",
    "        reviews_max[name] = n_reviews\n",
    "    if name not in reviews_max:\n",
    "        reviews_max[name] = n_reviews\n",
    "\n",
    "print(\"Number of Google Play apps is \", len(reviews_max))     "
   ]
  },
  {
   "cell_type": "code",
   "execution_count": 8,
   "metadata": {
    "collapsed": false
   },
   "outputs": [
    {
     "name": "stdout",
     "output_type": "stream",
     "text": [
      "['Photo Editor & Candy Camera & Grid & ScrapBook', 'ART_AND_DESIGN', '4.1', '159', '19M', '10,000+', 'Free', '0', 'Everyone', 'Art & Design', 'January 7, 2018', '1.0.0', '4.0.3 and up']\n",
      "\n",
      "\n",
      "['U Launcher Lite – FREE Live Cool Themes, Hide Apps', 'ART_AND_DESIGN', '4.7', '87510', '8.7M', '5,000,000+', 'Free', '0', 'Everyone', 'Art & Design', 'August 1, 2018', '1.2.4', '4.0.3 and up']\n",
      "\n",
      "\n",
      "Number of rows: 9659\n",
      "Number of columns: 13\n"
     ]
    }
   ],
   "source": [
    "android_clean = []\n",
    "already_added = []\n",
    "for app in GooglePlay_data:\n",
    "    name = app[0]\n",
    "    n_reviews = float(app[3])\n",
    "#Check that the review in this row matches the highest review#\n",
    "#obtained and the app has not already been added (accounted for)#    \n",
    "    if (n_reviews == reviews_max[name]) and (name not in already_added):\n",
    "        android_clean.append(app)        \n",
    "        already_added.append(name)\n",
    "\n",
    "explore_dataset(android_clean,0,2,True)"
   ]
  },
  {
   "cell_type": "markdown",
   "metadata": {
    "collapsed": true
   },
   "source": [
    "As expected, we have 9659 Google Play apps."
   ]
  },
  {
   "cell_type": "markdown",
   "metadata": {},
   "source": [
    "The Engl function below is meant to return False if an app name falls outside of the ASCII English characters range."
   ]
  },
  {
   "cell_type": "code",
   "execution_count": 9,
   "metadata": {
    "collapsed": false,
    "scrolled": true
   },
   "outputs": [
    {
     "name": "stdout",
     "output_type": "stream",
     "text": [
      "True\n",
      "False\n",
      "False\n",
      "False\n"
     ]
    }
   ],
   "source": [
    "def Engl(string):\n",
    "    for character in string:\n",
    "        \n",
    "        if ord(character) > 127:\n",
    "            return False\n",
    "    return True\n",
    "    \n",
    "print(Engl('Instagram'))\n",
    "print(Engl('爱奇艺PPS -《欢乐颂2》电视剧热播'))\n",
    "print(Engl('Docs To Go™ Free Office Suite'))\n",
    "print(Engl('Instachat 😜'))"
   ]
  },
  {
   "cell_type": "markdown",
   "metadata": {},
   "source": [
    "As you can see, Docs To Go™ Free Office Suite and Instachat 😜return False although they are English apps. This is because of the ™ symbol and the 😜 emoji, which have ASCII numbers greater than 127. To avoid leaving out Docs To Go™ Free Office Suite and Instachat 😜, as well as other English apps with special characters, we'll refine our Engl function."
   ]
  },
  {
   "cell_type": "code",
   "execution_count": 10,
   "metadata": {
    "collapsed": false
   },
   "outputs": [
    {
     "name": "stdout",
     "output_type": "stream",
     "text": [
      "False\n",
      "True\n",
      "True\n"
     ]
    }
   ],
   "source": [
    "def English(string):\n",
    "    ascii_out = 0\n",
    "    for character in string:\n",
    "        \n",
    "        if ord(character) > 127:\n",
    "            ascii_out += 1\n",
    "    if ascii_out > 3:    \n",
    "        return False\n",
    "    return True\n",
    "\n",
    "print(English('爱奇艺PPS -《欢乐颂2》电视剧热播'))\n",
    "print(English('Docs To Go™ Free Office Suite'))\n",
    "print(English('Instachat 😜'))\n"
   ]
  },
  {
   "cell_type": "code",
   "execution_count": 11,
   "metadata": {
    "collapsed": false
   },
   "outputs": [
    {
     "name": "stdout",
     "output_type": "stream",
     "text": [
      "English GooglePlay apps\n",
      "['Photo Editor & Candy Camera & Grid & ScrapBook', 'ART_AND_DESIGN', '4.1', '159', '19M', '10,000+', 'Free', '0', 'Everyone', 'Art & Design', 'January 7, 2018', '1.0.0', '4.0.3 and up']\n",
      "\n",
      "\n",
      "['U Launcher Lite – FREE Live Cool Themes, Hide Apps', 'ART_AND_DESIGN', '4.7', '87510', '8.7M', '5,000,000+', 'Free', '0', 'Everyone', 'Art & Design', 'August 1, 2018', '1.2.4', '4.0.3 and up']\n",
      "\n",
      "\n",
      "['Sketch - Draw & Paint', 'ART_AND_DESIGN', '4.5', '215644', '25M', '50,000,000+', 'Free', '0', 'Teen', 'Art & Design', 'June 8, 2018', 'Varies with device', '4.2 and up']\n",
      "\n",
      "\n",
      "Number of rows: 9614\n",
      "Number of columns: 13\n",
      "\n",
      "\n",
      "English AppleStore apps\n",
      "['284882215', 'Facebook', '389879808', 'USD', '0.0', '2974676', '212', '3.5', '3.5', '95.0', '4+', 'Social Networking', '37', '1', '29', '1']\n",
      "\n",
      "\n",
      "['389801252', 'Instagram', '113954816', 'USD', '0.0', '2161558', '1289', '4.5', '4.0', '10.23', '12+', 'Photo & Video', '37', '0', '29', '1']\n",
      "\n",
      "\n",
      "['529479190', 'Clash of Clans', '116476928', 'USD', '0.0', '2130805', '579', '4.5', '4.5', '9.24.12', '9+', 'Games', '38', '5', '18', '1']\n",
      "\n",
      "\n",
      "Number of rows: 6183\n",
      "Number of columns: 16\n"
     ]
    }
   ],
   "source": [
    "GooglePlay_English = []\n",
    "AppleStore_English = []\n",
    "for app in android_clean:\n",
    "    name = app[0]\n",
    "    if English(name):\n",
    "        GooglePlay_English.append(app)\n",
    "        \n",
    "for app in AppStore_data:\n",
    "    name = app[1]\n",
    "    if English(name):\n",
    "        AppleStore_English.append(app)\n",
    "        \n",
    "print('English GooglePlay apps')\n",
    "explore_dataset(GooglePlay_English, 0, 3, True)\n",
    "print('\\n')\n",
    "print('English AppleStore apps')\n",
    "explore_dataset(AppleStore_English, 0, 3, True)    \n",
    "    "
   ]
  },
  {
   "cell_type": "markdown",
   "metadata": {},
   "source": [
    "So, after removing duplicate and nonEnglish apps, we're left with 9614 GooglePlay English apps and 6183 English AppleStore apps.\n"
   ]
  },
  {
   "cell_type": "markdown",
   "metadata": {},
   "source": [
    "Now, we want to isolate the free apps in a separate list. Because our revenue will be generated via in-app ads, we are looking at free apps only."
   ]
  },
  {
   "cell_type": "code",
   "execution_count": 12,
   "metadata": {
    "collapsed": false
   },
   "outputs": [
    {
     "name": "stdout",
     "output_type": "stream",
     "text": [
      "Apple Store App Columns\n",
      "['id', 'track_name', 'size_bytes', 'currency', 'price', 'rating_count_tot', 'rating_count_ver', 'user_rating', 'user_rating_ver', 'ver', 'cont_rating', 'prime_genre', 'sup_devices.num', 'ipadSc_urls.num', 'lang.num', 'vpp_lic']\n",
      "\n",
      "\n",
      "Google Play App Names\n",
      "['App', 'Category', 'Rating', 'Reviews', 'Size', 'Installs', 'Type', 'Price', 'Content Rating', 'Genres', 'Last Updated', 'Current Ver', 'Android Ver']\n"
     ]
    }
   ],
   "source": [
    "print(\"Apple Store App Columns\") \n",
    "print(AppStore_data_header)\n",
    "print('\\n')\n",
    "print(\"Google Play App Names\")\n",
    "print(GooglePlay_data_header)"
   ]
  },
  {
   "cell_type": "markdown",
   "metadata": {},
   "source": [
    "The price for the Apple Store apps is index 4. And for Google Play it is index 7."
   ]
  },
  {
   "cell_type": "code",
   "execution_count": 13,
   "metadata": {
    "collapsed": false
   },
   "outputs": [
    {
     "name": "stdout",
     "output_type": "stream",
     "text": [
      "Free English GooglePlay apps\n",
      "['Photo Editor & Candy Camera & Grid & ScrapBook', 'ART_AND_DESIGN', '4.1', '159', '19M', '10,000+', 'Free', '0', 'Everyone', 'Art & Design', 'January 7, 2018', '1.0.0', '4.0.3 and up']\n",
      "\n",
      "\n",
      "['U Launcher Lite – FREE Live Cool Themes, Hide Apps', 'ART_AND_DESIGN', '4.7', '87510', '8.7M', '5,000,000+', 'Free', '0', 'Everyone', 'Art & Design', 'August 1, 2018', '1.2.4', '4.0.3 and up']\n",
      "\n",
      "\n",
      "['Sketch - Draw & Paint', 'ART_AND_DESIGN', '4.5', '215644', '25M', '50,000,000+', 'Free', '0', 'Teen', 'Art & Design', 'June 8, 2018', 'Varies with device', '4.2 and up']\n",
      "\n",
      "\n",
      "Number of rows: 8864\n",
      "Number of columns: 13\n",
      "\n",
      "\n",
      "Free English AppleStore apps\n",
      "['284882215', 'Facebook', '389879808', 'USD', '0.0', '2974676', '212', '3.5', '3.5', '95.0', '4+', 'Social Networking', '37', '1', '29', '1']\n",
      "\n",
      "\n",
      "['389801252', 'Instagram', '113954816', 'USD', '0.0', '2161558', '1289', '4.5', '4.0', '10.23', '12+', 'Photo & Video', '37', '0', '29', '1']\n",
      "\n",
      "\n",
      "['529479190', 'Clash of Clans', '116476928', 'USD', '0.0', '2130805', '579', '4.5', '4.5', '9.24.12', '9+', 'Games', '38', '5', '18', '1']\n",
      "\n",
      "\n",
      "Number of rows: 3222\n",
      "Number of columns: 16\n"
     ]
    }
   ],
   "source": [
    "GooglePlay_EnglishFree = []\n",
    "AppleStore_EnglishFree = []\n",
    "for app in GooglePlay_English:\n",
    "    price = app[7]\n",
    "    if price == '0':\n",
    "        GooglePlay_EnglishFree.append(app)\n",
    "        \n",
    "for app in AppleStore_English:\n",
    "    price = app[4]\n",
    "    if price == '0.0':\n",
    "        AppleStore_EnglishFree.append(app)\n",
    "        \n",
    "print('Free English GooglePlay apps')\n",
    "explore_dataset(GooglePlay_EnglishFree, 0, 3, True)\n",
    "print('\\n')\n",
    "print('Free English AppleStore apps')\n",
    "explore_dataset(AppleStore_EnglishFree, 0, 3, True)  "
   ]
  },
  {
   "cell_type": "markdown",
   "metadata": {},
   "source": [
    "We want an app that can be used on GooglePlay and the App Store. At the same time, we want to minimize risk and overhead.To achieve these goals, we will initially build a minimal version of the app for use in Google Play. If the response is good then we'll further develop the app. After six months, if the app is profitable, we will produce an iOS version for use in the App Store. Since we want to use the app in both GooglePlay and the App Store, we'll need to determine what genres these two services have in common. Let's look at their column names."
   ]
  },
  {
   "cell_type": "code",
   "execution_count": 14,
   "metadata": {
    "collapsed": false
   },
   "outputs": [
    {
     "name": "stdout",
     "output_type": "stream",
     "text": [
      "Apple Store App Columns\n",
      "['id', 'track_name', 'size_bytes', 'currency', 'price', 'rating_count_tot', 'rating_count_ver', 'user_rating', 'user_rating_ver', 'ver', 'cont_rating', 'prime_genre', 'sup_devices.num', 'ipadSc_urls.num', 'lang.num', 'vpp_lic']\n",
      "\n",
      "\n",
      "Google Play App Names\n",
      "['App', 'Category', 'Rating', 'Reviews', 'Size', 'Installs', 'Type', 'Price', 'Content Rating', 'Genres', 'Last Updated', 'Current Ver', 'Android Ver']\n"
     ]
    }
   ],
   "source": [
    "print(\"Apple Store App Columns\") \n",
    "print(AppStore_data_header)\n",
    "print('\\n')\n",
    "print(\"Google Play App Names\")\n",
    "print(GooglePlay_data_header)\n",
    "      "
   ]
  },
  {
   "cell_type": "markdown",
   "metadata": {},
   "source": [
    "The Apple Store : Google Play apps that the two services have in common are: \n",
    "1. track name: app\n",
    "2. size bytes : size\n",
    "3. price : price\n",
    "4. user rating : rating\n",
    "5. user rating count : reviews\n",
    "6. prime genre : genres\n",
    "7. ver : current ver\n",
    "8. cont rating : content rating\n",
    "9. category in Google Play can also be used to classify the type of apps.\n",
    "\n",
    "We would compare prime genre and genre (#6 above), as well as category (#9) to create frequency tables showing the most common genres in each market.\n",
    "\n",
    "\n"
   ]
  },
  {
   "cell_type": "code",
   "execution_count": 15,
   "metadata": {
    "collapsed": false
   },
   "outputs": [],
   "source": [
    "def freq_table(dataset, index):\n",
    "    table = {}\n",
    "    total = 0\n",
    "    for row in dataset:\n",
    "        total += 1\n",
    "        value = row[index]\n",
    "        if value in table:\n",
    "            table[value] += 1\n",
    "        else:\n",
    "            table[value] = 1\n",
    "            \n",
    "    table_percentages = {}\n",
    "    for key in table:\n",
    "        percentage = (table[key]/total) * 100\n",
    "        table_percentages[key] = percentage\n",
    "    return table_percentages\n",
    "    \n",
    "def display_table(dataset, index):\n",
    "    table = freq_table(dataset, index)\n",
    "    table_display = []\n",
    "    for key in table:\n",
    "        key_val_as_tuple = (table[key], key)\n",
    "        table_display.append(key_val_as_tuple)\n",
    "\n",
    "    table_sorted = sorted(table_display, reverse = True)\n",
    "    for entry in table_sorted:\n",
    "        print(entry[1], ':', entry[0])"
   ]
  },
  {
   "cell_type": "markdown",
   "metadata": {},
   "source": [
    "Below is the frequency table for the prime genre column in the Apple Store dataset."
   ]
  },
  {
   "cell_type": "code",
   "execution_count": 16,
   "metadata": {
    "collapsed": false
   },
   "outputs": [
    {
     "name": "stdout",
     "output_type": "stream",
     "text": [
      "Games : 58.16263190564867\n",
      "Entertainment : 7.883302296710118\n",
      "Photo & Video : 4.9658597144630665\n",
      "Education : 3.662321539416512\n",
      "Social Networking : 3.2898820608317814\n",
      "Shopping : 2.60707635009311\n",
      "Utilities : 2.5139664804469275\n",
      "Sports : 2.1415270018621975\n",
      "Music : 2.0484171322160147\n",
      "Health & Fitness : 2.0173805090006205\n",
      "Productivity : 1.7380509000620732\n",
      "Lifestyle : 1.5828677839851024\n",
      "News : 1.3345747982619491\n",
      "Travel : 1.2414649286157666\n",
      "Finance : 1.1173184357541899\n",
      "Weather : 0.8690254500310366\n",
      "Food & Drink : 0.8069522036002483\n",
      "Reference : 0.5586592178770949\n",
      "Business : 0.5276225946617008\n",
      "Book : 0.4345127250155183\n",
      "Navigation : 0.186219739292365\n",
      "Medical : 0.186219739292365\n",
      "Catalogs : 0.12414649286157665\n"
     ]
    }
   ],
   "source": [
    "display_table(AppleStore_EnglishFree, -5)"
   ]
  },
  {
   "cell_type": "markdown",
   "metadata": {},
   "source": [
    "As we can see above, games accounts for almost 60% of the free English Apple Store apps. The runner up is entertainment which accounts for roughly 8% of the apps. In general, work related functions such as finance, business, and productivity are less than 2%. Most of the free English apps are for entertainment purposes. We need more info in order to recommend an app profile for the App Store. If there's a large number of apps for a particular genre this only shows what's available. Availability does not imply demand i.e. that apps of that genre have a large number of users."
   ]
  },
  {
   "cell_type": "markdown",
   "metadata": {},
   "source": [
    "Below is the category frequency table for Google Play."
   ]
  },
  {
   "cell_type": "code",
   "execution_count": 17,
   "metadata": {
    "collapsed": false
   },
   "outputs": [
    {
     "name": "stdout",
     "output_type": "stream",
     "text": [
      "FAMILY : 18.907942238267147\n",
      "GAME : 9.724729241877256\n",
      "TOOLS : 8.461191335740072\n",
      "BUSINESS : 4.591606498194946\n",
      "LIFESTYLE : 3.9034296028880866\n",
      "PRODUCTIVITY : 3.892148014440433\n",
      "FINANCE : 3.7003610108303246\n",
      "MEDICAL : 3.531137184115524\n",
      "SPORTS : 3.395758122743682\n",
      "PERSONALIZATION : 3.3167870036101084\n",
      "COMMUNICATION : 3.2378158844765346\n",
      "HEALTH_AND_FITNESS : 3.0798736462093865\n",
      "PHOTOGRAPHY : 2.944494584837545\n",
      "NEWS_AND_MAGAZINES : 2.7978339350180503\n",
      "SOCIAL : 2.6624548736462095\n",
      "TRAVEL_AND_LOCAL : 2.33528880866426\n",
      "SHOPPING : 2.2450361010830324\n",
      "BOOKS_AND_REFERENCE : 2.1435018050541514\n",
      "DATING : 1.861462093862816\n",
      "VIDEO_PLAYERS : 1.7937725631768955\n",
      "MAPS_AND_NAVIGATION : 1.3989169675090252\n",
      "FOOD_AND_DRINK : 1.2409747292418771\n",
      "EDUCATION : 1.1620036101083033\n",
      "ENTERTAINMENT : 0.9589350180505415\n",
      "LIBRARIES_AND_DEMO : 0.9363718411552346\n",
      "AUTO_AND_VEHICLES : 0.9250902527075812\n",
      "HOUSE_AND_HOME : 0.8235559566787004\n",
      "WEATHER : 0.8009927797833934\n",
      "EVENTS : 0.7107400722021661\n",
      "PARENTING : 0.6543321299638989\n",
      "ART_AND_DESIGN : 0.6430505415162455\n",
      "COMICS : 0.6204873646209386\n",
      "BEAUTY : 0.5979241877256317\n"
     ]
    }
   ],
   "source": [
    "display_table(GooglePlay_EnglishFree, 1)"
   ]
  },
  {
   "cell_type": "markdown",
   "metadata": {},
   "source": [
    "Family, game, and tools are the top categories. In Google Play, we see that family consists of games for young children, so essentially the top two categories are games."
   ]
  },
  {
   "cell_type": "markdown",
   "metadata": {},
   "source": [
    "And finally the genres frequencey tale for Google Play:"
   ]
  },
  {
   "cell_type": "code",
   "execution_count": 18,
   "metadata": {
    "collapsed": false
   },
   "outputs": [
    {
     "name": "stdout",
     "output_type": "stream",
     "text": [
      "Tools : 8.449909747292418\n",
      "Entertainment : 6.069494584837545\n",
      "Education : 5.347472924187725\n",
      "Business : 4.591606498194946\n",
      "Productivity : 3.892148014440433\n",
      "Lifestyle : 3.892148014440433\n",
      "Finance : 3.7003610108303246\n",
      "Medical : 3.531137184115524\n",
      "Sports : 3.463447653429603\n",
      "Personalization : 3.3167870036101084\n",
      "Communication : 3.2378158844765346\n",
      "Action : 3.1024368231046933\n",
      "Health & Fitness : 3.0798736462093865\n",
      "Photography : 2.944494584837545\n",
      "News & Magazines : 2.7978339350180503\n",
      "Social : 2.6624548736462095\n",
      "Travel & Local : 2.3240072202166067\n",
      "Shopping : 2.2450361010830324\n",
      "Books & Reference : 2.1435018050541514\n",
      "Simulation : 2.0419675090252705\n",
      "Dating : 1.861462093862816\n",
      "Arcade : 1.8501805054151623\n",
      "Video Players & Editors : 1.7712093862815883\n",
      "Casual : 1.7599277978339352\n",
      "Maps & Navigation : 1.3989169675090252\n",
      "Food & Drink : 1.2409747292418771\n",
      "Puzzle : 1.128158844765343\n",
      "Racing : 0.9927797833935018\n",
      "Role Playing : 0.9363718411552346\n",
      "Libraries & Demo : 0.9363718411552346\n",
      "Auto & Vehicles : 0.9250902527075812\n",
      "Strategy : 0.9138086642599278\n",
      "House & Home : 0.8235559566787004\n",
      "Weather : 0.8009927797833934\n",
      "Events : 0.7107400722021661\n",
      "Adventure : 0.6768953068592057\n",
      "Comics : 0.6092057761732852\n",
      "Beauty : 0.5979241877256317\n",
      "Art & Design : 0.5979241877256317\n",
      "Parenting : 0.4963898916967509\n",
      "Card : 0.45126353790613716\n",
      "Casino : 0.42870036101083037\n",
      "Trivia : 0.41741877256317694\n",
      "Educational;Education : 0.39485559566787\n",
      "Board : 0.3835740072202166\n",
      "Educational : 0.3722924187725632\n",
      "Education;Education : 0.33844765342960287\n",
      "Word : 0.2594765342960289\n",
      "Casual;Pretend Play : 0.236913357400722\n",
      "Music : 0.2030685920577617\n",
      "Racing;Action & Adventure : 0.16922382671480143\n",
      "Puzzle;Brain Games : 0.16922382671480143\n",
      "Entertainment;Music & Video : 0.16922382671480143\n",
      "Casual;Brain Games : 0.13537906137184114\n",
      "Casual;Action & Adventure : 0.13537906137184114\n",
      "Arcade;Action & Adventure : 0.12409747292418773\n",
      "Action;Action & Adventure : 0.10153429602888085\n",
      "Educational;Pretend Play : 0.09025270758122744\n",
      "Simulation;Action & Adventure : 0.078971119133574\n",
      "Parenting;Education : 0.078971119133574\n",
      "Entertainment;Brain Games : 0.078971119133574\n",
      "Board;Brain Games : 0.078971119133574\n",
      "Parenting;Music & Video : 0.06768953068592057\n",
      "Educational;Brain Games : 0.06768953068592057\n",
      "Casual;Creativity : 0.06768953068592057\n",
      "Art & Design;Creativity : 0.06768953068592057\n",
      "Education;Pretend Play : 0.056407942238267145\n",
      "Role Playing;Pretend Play : 0.04512635379061372\n",
      "Education;Creativity : 0.04512635379061372\n",
      "Role Playing;Action & Adventure : 0.033844765342960284\n",
      "Puzzle;Action & Adventure : 0.033844765342960284\n",
      "Entertainment;Creativity : 0.033844765342960284\n",
      "Entertainment;Action & Adventure : 0.033844765342960284\n",
      "Educational;Creativity : 0.033844765342960284\n",
      "Educational;Action & Adventure : 0.033844765342960284\n",
      "Education;Music & Video : 0.033844765342960284\n",
      "Education;Brain Games : 0.033844765342960284\n",
      "Education;Action & Adventure : 0.033844765342960284\n",
      "Adventure;Action & Adventure : 0.033844765342960284\n",
      "Video Players & Editors;Music & Video : 0.02256317689530686\n",
      "Sports;Action & Adventure : 0.02256317689530686\n",
      "Simulation;Pretend Play : 0.02256317689530686\n",
      "Puzzle;Creativity : 0.02256317689530686\n",
      "Music;Music & Video : 0.02256317689530686\n",
      "Entertainment;Pretend Play : 0.02256317689530686\n",
      "Casual;Education : 0.02256317689530686\n",
      "Board;Action & Adventure : 0.02256317689530686\n",
      "Video Players & Editors;Creativity : 0.01128158844765343\n",
      "Trivia;Education : 0.01128158844765343\n",
      "Travel & Local;Action & Adventure : 0.01128158844765343\n",
      "Tools;Education : 0.01128158844765343\n",
      "Strategy;Education : 0.01128158844765343\n",
      "Strategy;Creativity : 0.01128158844765343\n",
      "Strategy;Action & Adventure : 0.01128158844765343\n",
      "Simulation;Education : 0.01128158844765343\n",
      "Role Playing;Brain Games : 0.01128158844765343\n",
      "Racing;Pretend Play : 0.01128158844765343\n",
      "Puzzle;Education : 0.01128158844765343\n",
      "Parenting;Brain Games : 0.01128158844765343\n",
      "Music & Audio;Music & Video : 0.01128158844765343\n",
      "Lifestyle;Pretend Play : 0.01128158844765343\n",
      "Lifestyle;Education : 0.01128158844765343\n",
      "Health & Fitness;Education : 0.01128158844765343\n",
      "Health & Fitness;Action & Adventure : 0.01128158844765343\n",
      "Entertainment;Education : 0.01128158844765343\n",
      "Communication;Creativity : 0.01128158844765343\n",
      "Comics;Creativity : 0.01128158844765343\n",
      "Casual;Music & Video : 0.01128158844765343\n",
      "Card;Action & Adventure : 0.01128158844765343\n",
      "Books & Reference;Education : 0.01128158844765343\n",
      "Art & Design;Pretend Play : 0.01128158844765343\n",
      "Art & Design;Action & Adventure : 0.01128158844765343\n",
      "Arcade;Pretend Play : 0.01128158844765343\n",
      "Adventure;Education : 0.01128158844765343\n"
     ]
    }
   ],
   "source": [
    "display_table(GooglePlay_EnglishFree, -4)"
   ]
  },
  {
   "cell_type": "markdown",
   "metadata": {},
   "source": [
    "Tools is in the top 3 for the category and genres columns in the Google Play data set. As in the App Store, entertainment is a frequent genre in Google Play -although it is not a popular category. Google Play has more practical apps whereas the Apple Store has mostly entertainment apps. Again, these tables only show what is available, they do not inicate what kinds of apps users prefer."
   ]
  },
  {
   "cell_type": "code",
   "execution_count": 19,
   "metadata": {
    "collapsed": false
   },
   "outputs": [
    {
     "name": "stdout",
     "output_type": "stream",
     "text": [
      "Catalogs : 4004.0\n",
      "Sports : 23008.898550724636\n",
      "Social Networking : 71548.34905660378\n",
      "Entertainment : 14029.830708661417\n",
      "Productivity : 21028.410714285714\n",
      "Shopping : 26919.690476190477\n",
      "Games : 22788.6696905016\n",
      "Health & Fitness : 23298.015384615384\n",
      "Food & Drink : 33333.92307692308\n",
      "Lifestyle : 16485.764705882353\n",
      "Finance : 31467.944444444445\n",
      "Travel : 28243.8\n",
      "Business : 7491.117647058823\n",
      "Utilities : 18684.456790123455\n",
      "News : 21248.023255813954\n",
      "Education : 7003.983050847458\n",
      "Navigation : 86090.33333333333\n",
      "Photo & Video : 28441.54375\n",
      "Music : 57326.530303030304\n",
      "Weather : 52279.892857142855\n",
      "Book : 39758.5\n",
      "Medical : 612.0\n",
      "Reference : 74942.11111111111\n"
     ]
    }
   ],
   "source": [
    "genre_AppStore = freq_table(AppleStore_EnglishFree, -5)\n",
    "\n",
    "for genre in genre_AppStore:\n",
    "    total = 0\n",
    "    len_genre = 0\n",
    "    for app in AppleStore_EnglishFree:\n",
    "        genre_app = app[-5]\n",
    "        if genre_app == genre:\n",
    "            number_ratings = float(app[5]) #rating count total\n",
    "            total = total + number_ratings\n",
    "            len_genre += 1\n",
    "                    \n",
    "    avg_number_ratings = total/len_genre\n",
    "    print(genre, ':', avg_number_ratings)"
   ]
  },
  {
   "cell_type": "markdown",
   "metadata": {},
   "source": [
    "Interestingly, navigation apps had the highest number of ratings of all the Apple Store apps. These were followed by reference and social networking genres. Even though the App Store favors fun free English apps, the high number of ratings for these particular genres suggest that users value practicality over fun when choosing free English apps."
   ]
  },
  {
   "cell_type": "code",
   "execution_count": 24,
   "metadata": {
    "collapsed": false
   },
   "outputs": [
    {
     "name": "stdout",
     "output_type": "stream",
     "text": [
      "Video Players & Editors;Music & Video : 7500000.0\n",
      "Simulation : 3475484.08839779\n",
      "Trivia : 3475712.7027027025\n",
      "Puzzle : 8302861.91\n",
      "Health & Fitness;Action & Adventure : 1000000.0\n",
      "Art & Design : 2122850.9433962265\n",
      "Health & Fitness;Education : 100000.0\n",
      "News & Magazines : 9549178.467741935\n",
      "House & Home : 1331540.5616438356\n",
      "Casual;Brain Games : 1425916.6666666667\n",
      "Trivia;Education : 100.0\n",
      "Educational;Education : 1737143.142857143\n",
      "Entertainment;Music & Video : 6413333.333333333\n",
      "Entertainment;Brain Games : 3314285.714285714\n",
      "Adventure;Education : 10000000.0\n",
      "Casual;Education : 1000000.0\n",
      "Strategy;Education : 500000.0\n",
      "Entertainment;Creativity : 4000000.0\n",
      "Casual;Action & Adventure : 12916666.666666666\n",
      "Travel & Local : 14051476.145631067\n",
      "Education;Creativity : 2875000.0\n",
      "Music : 9445583.333333334\n",
      "Productivity : 16787331.344927534\n",
      "Medical : 120550.61980830671\n",
      "Music & Audio;Music & Video : 500000.0\n",
      "Dating : 854028.8303030303\n",
      "Role Playing;Action & Adventure : 7000000.0\n",
      "Board : 4759209.117647059\n",
      "Action : 12603588.872727273\n",
      "Books & Reference;Education : 1000.0\n",
      "Role Playing;Pretend Play : 5275000.0\n",
      "Simulation;Education : 500.0\n",
      "Racing;Action & Adventure : 8816666.666666666\n",
      "Role Playing : 3965645.421686747\n",
      "Education;Music & Video : 2033333.3333333333\n",
      "Educational;Pretend Play : 9375000.0\n",
      "Shopping : 7036877.311557789\n",
      "Word : 9094458.695652174\n",
      "Simulation;Action & Adventure : 4857142.857142857\n",
      "Education;Brain Games : 5333333.333333333\n",
      "Card : 3815462.5\n",
      "Food & Drink : 1924897.7363636363\n",
      "Lifestyle : 1412998.3449275363\n",
      "Puzzle;Brain Games : 9280666.666666666\n",
      "Sports;Action & Adventure : 5050000.0\n",
      "Social : 23253652.127118643\n",
      "Business : 1712290.1474201474\n",
      "Education;Education : 4759517.0\n",
      "Casino : 3427910.5263157897\n",
      "Adventure : 4922785.333333333\n",
      "Entertainment;Action & Adventure : 2333333.3333333335\n",
      "Beauty : 513151.88679245283\n",
      "Casual;Music & Video : 10000000.0\n",
      "Art & Design;Creativity : 285000.0\n",
      "Weather : 5074486.197183099\n",
      "Entertainment;Education : 1000000.0\n",
      "Books & Reference : 8767811.894736841\n",
      "Personalization : 5201482.6122448975\n",
      "Puzzle;Creativity : 750000.0\n",
      "Libraries & Demo : 638503.734939759\n",
      "Maps & Navigation : 4056941.7741935486\n",
      "Arcade : 22888365.48780488\n",
      "Health & Fitness : 4188821.9853479853\n",
      "Casual;Pretend Play : 6957142.857142857\n",
      "Finance : 1387692.475609756\n",
      "Communication : 38456119.167247385\n",
      "Video Players & Editors;Creativity : 5000000.0\n",
      "Comics : 831873.1481481482\n",
      "Art & Design;Action & Adventure : 100000.0\n",
      "Strategy;Creativity : 1000000.0\n",
      "Simulation;Pretend Play : 550000.0\n",
      "Art & Design;Pretend Play : 500000.0\n",
      "Music;Music & Video : 5050000.0\n",
      "Strategy : 11199902.530864198\n",
      "Racing;Pretend Play : 1000000.0\n",
      "Parenting;Brain Games : 1000000.0\n",
      "Educational;Brain Games : 4433333.333333333\n",
      "Comics;Creativity : 50000.0\n",
      "Puzzle;Action & Adventure : 18366666.666666668\n",
      "Tools : 10802461.246995995\n",
      "Racing : 15910645.681818182\n",
      "Education;Pretend Play : 1800000.0\n",
      "Educational;Action & Adventure : 17016666.666666668\n",
      "Adventure;Action & Adventure : 35333333.333333336\n",
      "Educational : 411184.8484848485\n",
      "Tools;Education : 10000000.0\n",
      "Action;Action & Adventure : 5888888.888888889\n",
      "Casual;Creativity : 5333333.333333333\n",
      "Entertainment : 5602792.775092937\n",
      "Arcade;Pretend Play : 1000000.0\n",
      "Education : 550185.4430379746\n",
      "Communication;Creativity : 500000.0\n",
      "Card;Action & Adventure : 10000000.0\n",
      "Parenting;Music & Video : 1118333.3333333333\n",
      "Auto & Vehicles : 647317.8170731707\n",
      "Lifestyle;Education : 100000.0\n",
      "Parenting : 467977.5\n",
      "Role Playing;Brain Games : 10000000.0\n",
      "Events : 253542.22222222222\n",
      "Educational;Creativity : 2333333.3333333335\n",
      "Sports : 4596842.615635179\n",
      "Photography : 17840110.40229885\n",
      "Strategy;Action & Adventure : 1000000.0\n",
      "Board;Action & Adventure : 3000000.0\n",
      "Casual : 19569221.602564104\n",
      "Arcade;Action & Adventure : 3190909.1818181816\n",
      "Board;Brain Games : 407142.85714285716\n",
      "Entertainment;Pretend Play : 3000000.0\n",
      "Lifestyle;Pretend Play : 10000000.0\n",
      "Video Players & Editors : 24947335.796178345\n",
      "Education;Action & Adventure : 1000000.0\n",
      "Travel & Local;Action & Adventure : 100000.0\n",
      "Puzzle;Education : 100000.0\n",
      "Parenting;Education : 452857.14285714284\n"
     ]
    }
   ],
   "source": [
    "genre_GooglePlay = freq_table(GooglePlay_EnglishFree, -4)\n",
    "\n",
    "for category in genre_GooglePlay:\n",
    "    total = 0\n",
    "    len_category = 0\n",
    "    number_installs = 0\n",
    "    for app in GooglePlay_EnglishFree:\n",
    "        category_app = app[-4]\n",
    "        if category_app == category:\n",
    "            number_installs = app[5]\n",
    "            number_installs = number_installs.replace('+', '')\n",
    "            number_installs = number_installs.replace(',', '')\n",
    "            n_installs = float(number_installs)\n",
    "            total += n_installs\n",
    "            len_category += 1\n",
    "            \n",
    "    avg_n_installs = total/len_category\n",
    "    print(category,\":\", avg_n_installs)                                \n",
    "            \n",
    "        "
   ]
  },
  {
   "cell_type": "markdown",
   "metadata": {
    "collapsed": true
   },
   "source": [
    "Above is the app genre to average number of installs for the Google Play free English apps. "
   ]
  },
  {
   "cell_type": "markdown",
   "metadata": {},
   "source": [
    "Education and action & adventure had high average installs.The Apple Store findings showed that users rated practical apps more times than fun ones. Navigation apps had the highest number of ratings for Apple Store free English apps. These apps educate the customer on how to reach their destination (i.e. an adventure). My recommendation is that free English Apps should be educational and provide travel related information. "
   ]
  }
 ],
 "metadata": {
  "kernelspec": {
   "display_name": "Python 3",
   "language": "python",
   "name": "python3"
  },
  "language_info": {
   "codemirror_mode": {
    "name": "ipython",
    "version": 3
   },
   "file_extension": ".py",
   "mimetype": "text/x-python",
   "name": "python",
   "nbconvert_exporter": "python",
   "pygments_lexer": "ipython3",
   "version": "3.4.3"
  }
 },
 "nbformat": 4,
 "nbformat_minor": 2
}
